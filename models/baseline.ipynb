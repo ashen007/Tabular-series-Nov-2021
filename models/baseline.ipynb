{
 "cells": [
  {
   "cell_type": "code",
   "execution_count": 1,
   "metadata": {
    "collapsed": true
   },
   "outputs": [],
   "source": [
    "import numpy as np\n",
    "import pandas as pd\n",
    "import seaborn as sns\n",
    "\n",
    "from matplotlib import pyplot as plt\n",
    "from sklearn.pipeline import Pipeline\n",
    "from sklearn.preprocessing import MinMaxScaler\n",
    "from sklearn.preprocessing import PowerTransformer\n",
    "from feature_engine.outliers import Winsorizer"
   ]
  },
  {
   "cell_type": "code",
   "execution_count": 6,
   "outputs": [],
   "source": [
    "tb = pd.read_csv('../data/../data/train.csv', index_col='id')\n",
    "tb_data = tb.sample(n=50000, random_state=16)\n",
    "tb_s1 = tb.sample(n=50000, random_state=32)\n",
    "tb_s2 = tb.sample(n=50000, random_state=64)"
   ],
   "metadata": {
    "collapsed": false,
    "pycharm": {
     "name": "#%%\n"
    }
   }
  },
  {
   "cell_type": "code",
   "execution_count": 3,
   "outputs": [
    {
     "data": {
      "text/plain": "{'memory': None,\n 'steps': [('outliers', Winsorizer(capping_method='iqr', tail='both')),\n  ('power', PowerTransformer()),\n  ('range', MinMaxScaler())],\n 'verbose': False,\n 'outliers': Winsorizer(capping_method='iqr', tail='both'),\n 'power': PowerTransformer(),\n 'range': MinMaxScaler(),\n 'outliers__capping_method': 'iqr',\n 'outliers__fold': 3,\n 'outliers__missing_values': 'raise',\n 'outliers__tail': 'both',\n 'outliers__variables': None,\n 'power__copy': True,\n 'power__method': 'yeo-johnson',\n 'power__standardize': True,\n 'range__clip': False,\n 'range__copy': True,\n 'range__feature_range': (0, 1)}"
     },
     "execution_count": 3,
     "metadata": {},
     "output_type": "execute_result"
    }
   ],
   "source": [
    "feature_eng = Pipeline(steps=[('outliers', Winsorizer(capping_method='iqr',\n",
    "                                                      tail='both')),\n",
    "                              ('power', PowerTransformer()),\n",
    "                              ('range', MinMaxScaler())])\n",
    "feature_eng.get_params()"
   ],
   "metadata": {
    "collapsed": false,
    "pycharm": {
     "name": "#%%\n"
    }
   }
  },
  {
   "cell_type": "code",
   "execution_count": 7,
   "outputs": [],
   "source": [
    "tb_data_fe = pd.DataFrame(feature_eng.fit_transform(tb_data.loc[:, :'f99']), columns=tb_data.columns[:100])\n",
    "tb_s1_fe = pd.DataFrame(feature_eng.fit_transform(tb_s1.loc[:, :'f99']), columns=tb_data.columns[:100])\n",
    "tb_s2_fe = pd.DataFrame(feature_eng.fit_transform(tb_s2.loc[:, :'f99']), columns=tb_data.columns[:100])"
   ],
   "metadata": {
    "collapsed": false,
    "pycharm": {
     "name": "#%%\n"
    }
   }
  },
  {
   "cell_type": "code",
   "execution_count": 8,
   "outputs": [],
   "source": [
    "tb_s1_Y = tb_s1['target']\n",
    "tb_s2_Y = tb_s2['target']"
   ],
   "metadata": {
    "collapsed": false,
    "pycharm": {
     "name": "#%%\n"
    }
   }
  },
  {
   "cell_type": "code",
   "execution_count": null,
   "outputs": [],
   "source": [],
   "metadata": {
    "collapsed": false,
    "pycharm": {
     "name": "#%%\n"
    }
   }
  }
 ],
 "metadata": {
  "kernelspec": {
   "display_name": "Python 3",
   "language": "python",
   "name": "python3"
  },
  "language_info": {
   "codemirror_mode": {
    "name": "ipython",
    "version": 2
   },
   "file_extension": ".py",
   "mimetype": "text/x-python",
   "name": "python",
   "nbconvert_exporter": "python",
   "pygments_lexer": "ipython2",
   "version": "2.7.6"
  }
 },
 "nbformat": 4,
 "nbformat_minor": 0
}